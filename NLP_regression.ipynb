{
 "cells": [
  {
   "cell_type": "code",
   "execution_count": 1,
   "id": "necessary-board",
   "metadata": {},
   "outputs": [],
   "source": [
    "import pandas as pd"
   ]
  },
  {
   "cell_type": "code",
   "execution_count": 2,
   "id": "occasional-efficiency",
   "metadata": {},
   "outputs": [
    {
     "data": {
      "text/html": [
       "<div>\n",
       "<style scoped>\n",
       "    .dataframe tbody tr th:only-of-type {\n",
       "        vertical-align: middle;\n",
       "    }\n",
       "\n",
       "    .dataframe tbody tr th {\n",
       "        vertical-align: top;\n",
       "    }\n",
       "\n",
       "    .dataframe thead th {\n",
       "        text-align: right;\n",
       "    }\n",
       "</style>\n",
       "<table border=\"1\" class=\"dataframe\">\n",
       "  <thead>\n",
       "    <tr style=\"text-align: right;\">\n",
       "      <th></th>\n",
       "      <th>id</th>\n",
       "      <th>Phrase</th>\n",
       "      <th>SearchVolume</th>\n",
       "      <th>Category</th>\n",
       "      <th>SizeTier</th>\n",
       "      <th>VariationCount</th>\n",
       "      <th>BSR</th>\n",
       "      <th>Price</th>\n",
       "      <th>MonthlySales</th>\n",
       "      <th>MonthlyRevenue</th>\n",
       "      <th>...</th>\n",
       "      <th>Target_Market</th>\n",
       "      <th>Market</th>\n",
       "      <th>Price_rank</th>\n",
       "      <th>MonthlySales_rank</th>\n",
       "      <th>SearchVolume_rank</th>\n",
       "      <th>Beauty_Concern_Type</th>\n",
       "      <th>market_potential_share</th>\n",
       "      <th>market_sales_share</th>\n",
       "      <th>market_growth</th>\n",
       "      <th>position_label</th>\n",
       "    </tr>\n",
       "  </thead>\n",
       "  <tbody>\n",
       "    <tr>\n",
       "      <th>0</th>\n",
       "      <td>1</td>\n",
       "      <td>probiotics</td>\n",
       "      <td>246072</td>\n",
       "      <td>Beauty &amp; Personal Care</td>\n",
       "      <td>Large Standard-Size</td>\n",
       "      <td>2</td>\n",
       "      <td>2301</td>\n",
       "      <td>20.04</td>\n",
       "      <td>27757</td>\n",
       "      <td>579107.32</td>\n",
       "      <td>...</td>\n",
       "      <td>Unisex</td>\n",
       "      <td>EN-US</td>\n",
       "      <td>0.512746</td>\n",
       "      <td>0.999745</td>\n",
       "      <td>1.000000</td>\n",
       "      <td>NaN</td>\n",
       "      <td>0.018125</td>\n",
       "      <td>0.000446</td>\n",
       "      <td>1.393406e-06</td>\n",
       "      <td>cash cows</td>\n",
       "    </tr>\n",
       "    <tr>\n",
       "      <th>1</th>\n",
       "      <td>3</td>\n",
       "      <td>bath bombs</td>\n",
       "      <td>209846</td>\n",
       "      <td>Beauty &amp; Personal Care</td>\n",
       "      <td>Large Standard-Size</td>\n",
       "      <td>1</td>\n",
       "      <td>8067</td>\n",
       "      <td>20.34</td>\n",
       "      <td>1543</td>\n",
       "      <td>29850.12</td>\n",
       "      <td>...</td>\n",
       "      <td>Unisex</td>\n",
       "      <td>EN-US</td>\n",
       "      <td>0.529272</td>\n",
       "      <td>0.379208</td>\n",
       "      <td>0.999949</td>\n",
       "      <td>NaN</td>\n",
       "      <td>0.015457</td>\n",
       "      <td>0.000025</td>\n",
       "      <td>2.870417e-04</td>\n",
       "      <td>question_marks</td>\n",
       "    </tr>\n",
       "    <tr>\n",
       "      <th>2</th>\n",
       "      <td>4</td>\n",
       "      <td>tweezers</td>\n",
       "      <td>209745</td>\n",
       "      <td>Beauty &amp; Personal Care</td>\n",
       "      <td>Small Standard-Size</td>\n",
       "      <td>2</td>\n",
       "      <td>5318</td>\n",
       "      <td>9.88</td>\n",
       "      <td>6757</td>\n",
       "      <td>58332.25</td>\n",
       "      <td>...</td>\n",
       "      <td>Unisex</td>\n",
       "      <td>EN-US</td>\n",
       "      <td>0.025670</td>\n",
       "      <td>0.885619</td>\n",
       "      <td>0.999898</td>\n",
       "      <td>NaN</td>\n",
       "      <td>0.015449</td>\n",
       "      <td>0.000109</td>\n",
       "      <td>1.273067e-05</td>\n",
       "      <td>stars</td>\n",
       "    </tr>\n",
       "    <tr>\n",
       "      <th>3</th>\n",
       "      <td>5</td>\n",
       "      <td>vitamin c serum</td>\n",
       "      <td>193920</td>\n",
       "      <td>Beauty &amp; Personal Care</td>\n",
       "      <td>Large Standard-Size</td>\n",
       "      <td>1</td>\n",
       "      <td>3129</td>\n",
       "      <td>21.56</td>\n",
       "      <td>10176</td>\n",
       "      <td>181136.22</td>\n",
       "      <td>...</td>\n",
       "      <td>Unisex</td>\n",
       "      <td>EN-US</td>\n",
       "      <td>0.584087</td>\n",
       "      <td>0.965670</td>\n",
       "      <td>0.999847</td>\n",
       "      <td>NaN</td>\n",
       "      <td>0.014284</td>\n",
       "      <td>0.000164</td>\n",
       "      <td>5.066933e-07</td>\n",
       "      <td>cash cows</td>\n",
       "    </tr>\n",
       "    <tr>\n",
       "      <th>4</th>\n",
       "      <td>6</td>\n",
       "      <td>dry shampoo</td>\n",
       "      <td>193799</td>\n",
       "      <td>Beauty &amp; Personal Care</td>\n",
       "      <td>Large Standard-Size</td>\n",
       "      <td>3</td>\n",
       "      <td>4893</td>\n",
       "      <td>18.52</td>\n",
       "      <td>6575</td>\n",
       "      <td>107133.22</td>\n",
       "      <td>...</td>\n",
       "      <td>Unisex</td>\n",
       "      <td>EN-US</td>\n",
       "      <td>0.428659</td>\n",
       "      <td>0.878033</td>\n",
       "      <td>0.999796</td>\n",
       "      <td>dry</td>\n",
       "      <td>0.014275</td>\n",
       "      <td>0.000106</td>\n",
       "      <td>-1.773426e-06</td>\n",
       "      <td>cash cows</td>\n",
       "    </tr>\n",
       "  </tbody>\n",
       "</table>\n",
       "<p>5 rows × 32 columns</p>\n",
       "</div>"
      ],
      "text/plain": [
       "   id           Phrase  SearchVolume                Category  \\\n",
       "0   1       probiotics        246072  Beauty & Personal Care   \n",
       "1   3       bath bombs        209846  Beauty & Personal Care   \n",
       "2   4         tweezers        209745  Beauty & Personal Care   \n",
       "3   5  vitamin c serum        193920  Beauty & Personal Care   \n",
       "4   6      dry shampoo        193799  Beauty & Personal Care   \n",
       "\n",
       "              SizeTier  VariationCount   BSR  Price  MonthlySales  \\\n",
       "0  Large Standard-Size               2  2301  20.04         27757   \n",
       "1  Large Standard-Size               1  8067  20.34          1543   \n",
       "2  Small Standard-Size               2  5318   9.88          6757   \n",
       "3  Large Standard-Size               1  3129  21.56         10176   \n",
       "4  Large Standard-Size               3  4893  18.52          6575   \n",
       "\n",
       "   MonthlyRevenue  ...  Target_Market  Market  Price_rank  MonthlySales_rank  \\\n",
       "0       579107.32  ...         Unisex   EN-US    0.512746           0.999745   \n",
       "1        29850.12  ...         Unisex   EN-US    0.529272           0.379208   \n",
       "2        58332.25  ...         Unisex   EN-US    0.025670           0.885619   \n",
       "3       181136.22  ...         Unisex   EN-US    0.584087           0.965670   \n",
       "4       107133.22  ...         Unisex   EN-US    0.428659           0.878033   \n",
       "\n",
       "   SearchVolume_rank  Beauty_Concern_Type  market_potential_share  \\\n",
       "0           1.000000                  NaN                0.018125   \n",
       "1           0.999949                  NaN                0.015457   \n",
       "2           0.999898                  NaN                0.015449   \n",
       "3           0.999847                  NaN                0.014284   \n",
       "4           0.999796                  dry                0.014275   \n",
       "\n",
       "  market_sales_share  market_growth  position_label  \n",
       "0           0.000446   1.393406e-06       cash cows  \n",
       "1           0.000025   2.870417e-04  question_marks  \n",
       "2           0.000109   1.273067e-05           stars  \n",
       "3           0.000164   5.066933e-07       cash cows  \n",
       "4           0.000106  -1.773426e-06       cash cows  \n",
       "\n",
       "[5 rows x 32 columns]"
      ]
     },
     "execution_count": 2,
     "metadata": {},
     "output_type": "execute_result"
    }
   ],
   "source": [
    "df= pd.read_csv(\"final_out.csv\")\n",
    "df.head()"
   ]
  },
  {
   "cell_type": "code",
   "execution_count": 8,
   "id": "wireless-belgium",
   "metadata": {},
   "outputs": [],
   "source": [
    "data = df[['Phrase','MonthlySales']]"
   ]
  },
  {
   "cell_type": "code",
   "execution_count": 9,
   "id": "happy-sitting",
   "metadata": {},
   "outputs": [],
   "source": [
    "from sklearn.feature_extraction.text import CountVectorizer"
   ]
  },
  {
   "cell_type": "code",
   "execution_count": 19,
   "id": "subtle-embassy",
   "metadata": {},
   "outputs": [
    {
     "data": {
      "text/plain": [
       "<19575x500 sparse matrix of type '<class 'numpy.int64'>'\n",
       "\twith 46987 stored elements in Compressed Sparse Row format>"
      ]
     },
     "execution_count": 19,
     "metadata": {},
     "output_type": "execute_result"
    }
   ],
   "source": [
    "\n",
    "cv = CountVectorizer(stop_words=\"english\", max_features=500)\n",
    "transformed = cv.fit_transform(data.Phrase)\n",
    "transformed"
   ]
  },
  {
   "cell_type": "code",
   "execution_count": 24,
   "id": "special-scholar",
   "metadata": {},
   "outputs": [
    {
     "data": {
      "text/plain": [
       "dtype('int64')"
      ]
     },
     "execution_count": 24,
     "metadata": {},
     "output_type": "execute_result"
    }
   ],
   "source": [
    "transformed.dtype"
   ]
  },
  {
   "cell_type": "code",
   "execution_count": 25,
   "id": "automated-process",
   "metadata": {},
   "outputs": [],
   "source": [
    "from sklearn.linear_model import LinearRegression\n",
    "model = LinearRegression()"
   ]
  },
  {
   "cell_type": "code",
   "execution_count": 26,
   "id": "dominican-madonna",
   "metadata": {},
   "outputs": [
    {
     "data": {
      "text/plain": [
       "LinearRegression()"
      ]
     },
     "execution_count": 26,
     "metadata": {},
     "output_type": "execute_result"
    }
   ],
   "source": [
    "model.fit(transformed, data['MonthlySales'])"
   ]
  },
  {
   "cell_type": "code",
   "execution_count": 29,
   "id": "found-plenty",
   "metadata": {},
   "outputs": [],
   "source": [
    "r_sq = model.score(transformed, data['MonthlySales'])"
   ]
  },
  {
   "cell_type": "code",
   "execution_count": 30,
   "id": "responsible-funeral",
   "metadata": {},
   "outputs": [],
   "source": [
    "y_pred = model.predict(transformed)"
   ]
  },
  {
   "cell_type": "code",
   "execution_count": 31,
   "id": "creative-swedish",
   "metadata": {},
   "outputs": [
    {
     "data": {
      "text/plain": [
       "array([11827.4327384 ,  2076.96522974,  2759.43641345, ...,\n",
       "        4899.54010956,  2354.04878432,  4640.03222842])"
      ]
     },
     "execution_count": 31,
     "metadata": {},
     "output_type": "execute_result"
    }
   ],
   "source": [
    "y_pred"
   ]
  }
 ],
 "metadata": {
  "kernelspec": {
   "display_name": "Python 3",
   "language": "python",
   "name": "python3"
  },
  "language_info": {
   "codemirror_mode": {
    "name": "ipython",
    "version": 3
   },
   "file_extension": ".py",
   "mimetype": "text/x-python",
   "name": "python",
   "nbconvert_exporter": "python",
   "pygments_lexer": "ipython3",
   "version": "3.7.4"
  }
 },
 "nbformat": 4,
 "nbformat_minor": 5
}
